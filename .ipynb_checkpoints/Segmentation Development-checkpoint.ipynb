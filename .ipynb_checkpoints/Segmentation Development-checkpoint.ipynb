{
 "cells": [
  {
   "cell_type": "code",
   "execution_count": 2,
   "metadata": {},
   "outputs": [
    {
     "name": "stdout",
     "output_type": "stream",
     "text": [
      "['A1ROI1_03_1_1_Phase Contrast_002.tif', 'A1ROI1_1.tif', 'A1ROI1_1_ch_2.tif']\n"
     ]
    }
   ],
   "source": [
    "from data_manager import Manager\n",
    "data_path = r'C:\\Users\\jtincan\\Desktop\\F0292\\processed'\n",
    "manF0292 = Manager(data_path)\n",
    "tifs=manF0292.list_data(\".tif\")\n",
    "print(tifs)"
   ]
  },
  {
   "cell_type": "code",
   "execution_count": 6,
   "metadata": {},
   "outputs": [
    {
     "name": "stdout",
     "output_type": "stream",
     "text": [
      "\"A1ROI1_1.tif\" File Size:  1279242 KB\n",
      "Image Stack Shape (4D):  (289, 2, 904, 1224)\n",
      "Number of channels in stack:  2\n",
      "Number of images per channel:  289\n",
      "Image Size:  904  x  1224\n",
      "(289, 2, 904, 1224)\n"
     ]
    }
   ],
   "source": [
    "image = manF0292.read('A1ROI1_1.tif')\n",
    "print(image.shape)"
   ]
  },
  {
   "cell_type": "code",
   "execution_count": null,
   "metadata": {},
   "outputs": [],
   "source": []
  }
 ],
 "metadata": {
  "kernelspec": {
   "display_name": "Python 3 (ipykernel)",
   "language": "python",
   "name": "python3"
  },
  "language_info": {
   "codemirror_mode": {
    "name": "ipython",
    "version": 3
   },
   "file_extension": ".py",
   "mimetype": "text/x-python",
   "name": "python",
   "nbconvert_exporter": "python",
   "pygments_lexer": "ipython3",
   "version": "3.10.6"
  }
 },
 "nbformat": 4,
 "nbformat_minor": 2
}
