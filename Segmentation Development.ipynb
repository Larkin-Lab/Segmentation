{
 "cells": [
  {
   "cell_type": "code",
   "execution_count": 4,
   "metadata": {},
   "outputs": [
    {
     "ename": "ModuleNotFoundError",
     "evalue": "No module named 'trainableSegmentation'",
     "output_type": "error",
     "traceback": [
      "\u001b[1;31m---------------------------------------------------------------------------\u001b[0m",
      "\u001b[1;31mModuleNotFoundError\u001b[0m                       Traceback (most recent call last)",
      "\u001b[1;32m<ipython-input-4-e0c6300cf75f>\u001b[0m in \u001b[0;36m<module>\u001b[1;34m()\u001b[0m\n\u001b[0;32m      1\u001b[0m \u001b[1;32mimport\u001b[0m \u001b[0mos\u001b[0m\u001b[1;33m\u001b[0m\u001b[0m\n\u001b[1;32m----> 2\u001b[1;33m \u001b[1;32mimport\u001b[0m \u001b[0mtrainableSegmentation\u001b[0m\u001b[1;33m\u001b[0m\u001b[0m\n\u001b[0m\u001b[0;32m      3\u001b[0m \u001b[1;31m# from trainableSegmentation import WekaSegmentation, Weka_Segmentation\u001b[0m\u001b[1;33m\u001b[0m\u001b[1;33m\u001b[0m\u001b[0m\n\u001b[0;32m      4\u001b[0m \u001b[1;31m# from ij import IJ, ImagePlus\u001b[0m\u001b[1;33m\u001b[0m\u001b[1;33m\u001b[0m\u001b[0m\n\u001b[0;32m      5\u001b[0m \u001b[1;31m# import numpy as np\u001b[0m\u001b[1;33m\u001b[0m\u001b[1;33m\u001b[0m\u001b[0m\n",
      "\u001b[1;31mModuleNotFoundError\u001b[0m: No module named 'trainableSegmentation'"
     ]
    }
   ],
   "source": [
    "import os\n",
    "import trainableSegmentation\n",
    "# from trainableSegmentation import WekaSegmentation, Weka_Segmentation\n",
    "# from ij import IJ, ImagePlus\n",
    "# import numpy as np"
   ]
  },
  {
   "cell_type": "code",
   "execution_count": 8,
   "metadata": {},
   "outputs": [
    {
     "name": "stdout",
     "output_type": "stream",
     "text": [
      "['A1ROI1_03_1_1_Phase Contrast_002.tif', 'A1ROI1_1.tif', 'A1ROI1_1_ch_2.tif']\n"
     ]
    }
   ],
   "source": []
  },
  {
   "cell_type": "code",
   "execution_count": 19,
   "metadata": {},
   "outputs": [
    {
     "ename": "FileNameError",
     "evalue": "No file named \"A1ROI1_03_1_1_Phase Contrast_0.tif\" in folder \"C:\\Users\\jtincan\\Desktop\\F0292\\processed\"",
     "output_type": "error",
     "traceback": [
      "\u001b[1;31m---------------------------------------------------------------------------\u001b[0m",
      "\u001b[1;31mFileNameError\u001b[0m                             Traceback (most recent call last)",
      "Cell \u001b[1;32mIn [19], line 1\u001b[0m\n\u001b[1;32m----> 1\u001b[0m \u001b[43mmanF0292\u001b[49m\u001b[38;5;241;43m.\u001b[39;49m\u001b[43mpreview\u001b[49m\u001b[43m(\u001b[49m\u001b[38;5;124;43m'\u001b[39;49m\u001b[38;5;124;43mA1ROI1_03_1_1_Phase Contrast_0.tif\u001b[39;49m\u001b[38;5;124;43m'\u001b[39;49m\u001b[43m,\u001b[49m\u001b[38;5;241;43m0\u001b[39;49m\u001b[43m)\u001b[49m\n",
      "File \u001b[1;32m~\\Documents\\GitHub\\Segmentation\\data_manager.py:60\u001b[0m, in \u001b[0;36mManager.preview\u001b[1;34m(self, filename, index)\u001b[0m\n\u001b[0;32m     58\u001b[0m \u001b[38;5;28;01mdef\u001b[39;00m \u001b[38;5;21mpreview\u001b[39m(\u001b[38;5;28mself\u001b[39m, filename\u001b[38;5;241m=\u001b[39m\u001b[38;5;28;01mNone\u001b[39;00m,index\u001b[38;5;241m=\u001b[39m\u001b[38;5;241m0\u001b[39m):\n\u001b[0;32m     59\u001b[0m \t\u001b[38;5;124;03m\"\"\"Get a preview of image data file, without loading all of it to memory. For multichannel stacks, displays one image per channel.\"\"\"\u001b[39;00m\n\u001b[1;32m---> 60\u001b[0m \tstack_shape, dimensions, file_path \u001b[38;5;241m=\u001b[39m \u001b[38;5;28;43mself\u001b[39;49m\u001b[38;5;241;43m.\u001b[39;49m\u001b[43mcheck_file\u001b[49m\u001b[43m(\u001b[49m\u001b[43mfilename\u001b[49m\u001b[43m)\u001b[49m;\n\u001b[0;32m     61\u001b[0m \t\u001b[38;5;66;03m# For a single .tif image \u001b[39;00m\n\u001b[0;32m     62\u001b[0m \t\u001b[38;5;28;01mif\u001b[39;00m dimensions\u001b[38;5;241m==\u001b[39m\u001b[38;5;241m2\u001b[39m:\n",
      "File \u001b[1;32m~\\Documents\\GitHub\\Segmentation\\data_manager.py:34\u001b[0m, in \u001b[0;36mManager.check_file\u001b[1;34m(self, filename)\u001b[0m\n\u001b[0;32m     32\u001b[0m \u001b[38;5;28;01melse\u001b[39;00m:\n\u001b[0;32m     33\u001b[0m \t\u001b[38;5;28;01mif\u001b[39;00m filename \u001b[38;5;129;01mnot\u001b[39;00m \u001b[38;5;129;01min\u001b[39;00m \u001b[38;5;28mself\u001b[39m\u001b[38;5;241m.\u001b[39mallfiles:\n\u001b[1;32m---> 34\u001b[0m \t\t\u001b[38;5;28;01mraise\u001b[39;00m FileNameError(filename,\u001b[38;5;28mself\u001b[39m\u001b[38;5;241m.\u001b[39mdata_path)\n\u001b[0;32m     35\u001b[0m \t\u001b[38;5;28;01melse\u001b[39;00m:\n\u001b[0;32m     36\u001b[0m \t\tfile_path \u001b[38;5;241m=\u001b[39m \u001b[38;5;28mself\u001b[39m\u001b[38;5;241m.\u001b[39mdata_path\u001b[38;5;241m+\u001b[39m\u001b[38;5;124m'\u001b[39m\u001b[38;5;130;01m\\\\\u001b[39;00m\u001b[38;5;124m'\u001b[39m\u001b[38;5;241m+\u001b[39mfilename\n",
      "\u001b[1;31mFileNameError\u001b[0m: No file named \"A1ROI1_03_1_1_Phase Contrast_0.tif\" in folder \"C:\\Users\\jtincan\\Desktop\\F0292\\processed\""
     ]
    }
   ],
   "source": []
  },
  {
   "cell_type": "code",
   "execution_count": 18,
   "metadata": {},
   "outputs": [
    {
     "name": "stdout",
     "output_type": "stream",
     "text": [
      "\"A1ROI1_1.tif\" File Size:  1279242 KB\n",
      "Image Stack Shape (4D):  (289, 2, 904, 1224)\n",
      "Number of channels in stack:  2\n",
      "Number of images per channel:  289\n",
      "Image Size:  904  x  1224\n",
      "\"A1ROI1_1_ch_2.tif\" File Size:  639620 KB\n",
      "Image Stack Shape (3D):  (289, 904, 1224)\n",
      "Number of images in stack:  289\n",
      "Image Size:  904  x  1224\n",
      "\"A1ROI1_03_1_1_Phase Contrast_002.tif\" File Size:  2213 KB\n",
      "Image Stack Shape (2D):  (904, 1224)\n",
      "Image Size:  904  x  1224\n",
      "(289, 2, 904, 1224)\n",
      "(289, 2, 904, 1224)\n",
      "(289, 2, 904, 1224)\n"
     ]
    }
   ],
   "source": []
  },
  {
   "cell_type": "code",
   "execution_count": 17,
   "metadata": {},
   "outputs": [
    {
     "data": {
      "text/plain": [
       "(289, 2, 904, 1224)"
      ]
     },
     "execution_count": 17,
     "metadata": {},
     "output_type": "execute_result"
    }
   ],
   "source": []
  },
  {
   "cell_type": "code",
   "execution_count": null,
   "metadata": {},
   "outputs": [],
   "source": []
  }
 ],
 "metadata": {
  "kernelspec": {
   "display_name": "Python 3",
   "language": "python",
   "name": "python3"
  },
  "language_info": {
   "codemirror_mode": {
    "name": "ipython",
    "version": 3
   },
   "file_extension": ".py",
   "mimetype": "text/x-python",
   "name": "python",
   "nbconvert_exporter": "python",
   "pygments_lexer": "ipython3",
   "version": "3.6.5"
  }
 },
 "nbformat": 4,
 "nbformat_minor": 2
}
